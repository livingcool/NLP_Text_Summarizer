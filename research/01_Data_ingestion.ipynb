{
 "cells": [
  {
   "cell_type": "code",
   "execution_count": 1,
   "id": "278db67b",
   "metadata": {},
   "outputs": [],
   "source": [
    "import os"
   ]
  },
  {
   "cell_type": "code",
   "execution_count": 2,
   "id": "ac4370c4",
   "metadata": {},
   "outputs": [
    {
     "data": {
      "text/plain": [
       "'e:\\\\2025\\\\Project_Learning\\\\NLP_Text_Summarizer\\\\research'"
      ]
     },
     "execution_count": 2,
     "metadata": {},
     "output_type": "execute_result"
    }
   ],
   "source": [
    "%pwd"
   ]
  },
  {
   "cell_type": "code",
   "execution_count": 3,
   "id": "f9fa2b98",
   "metadata": {},
   "outputs": [],
   "source": [
    "os.chdir(\"../\")"
   ]
  },
  {
   "cell_type": "code",
   "execution_count": 4,
   "id": "b65894f3",
   "metadata": {},
   "outputs": [
    {
     "data": {
      "text/plain": [
       "'e:\\\\2025\\\\Project_Learning\\\\NLP_Text_Summarizer'"
      ]
     },
     "execution_count": 4,
     "metadata": {},
     "output_type": "execute_result"
    }
   ],
   "source": [
    "%pwd"
   ]
  },
  {
   "cell_type": "code",
   "execution_count": 6,
   "id": "c729ff48",
   "metadata": {},
   "outputs": [],
   "source": [
    "from dataclasses import dataclass\n",
    "from pathlib import Path\n",
    "\n",
    "# The @dataclass(frozen=True) decorator automatically generates methods like __init__, __repr__, etc.\n",
    "# frozen=True makes the instances immutable (read-only) after creation.\n",
    "@dataclass(frozen=True)\n",
    "class DataIngestionConfig:\n",
    "    \"\"\"\n",
    "    Defines the structure for Data Ingestion configuration.\n",
    "    The types match the values read from the config.yaml file.\n",
    "    \"\"\"\n",
    "    root_dir: Path\n",
    "    source_URL: str\n",
    "    local_data_file: Path\n",
    "    unzip_dir: Path"
   ]
  },
  {
   "cell_type": "code",
   "execution_count": 7,
   "id": "1a2fb879",
   "metadata": {},
   "outputs": [],
   "source": [
    "from textSummarizer.constants import *\n",
    "from textSummarizer.utils.common import read_yaml,create_directories\n"
   ]
  },
  {
   "cell_type": "code",
   "execution_count": 8,
   "id": "8888e233",
   "metadata": {},
   "outputs": [],
   "source": [
    "\n",
    "class ConfigurationManager:\n",
    "    def __init__(\n",
    "        self,\n",
    "        config_filepath = CONFIG_FILE_PATH,\n",
    "        params_filepath = PARAMS_FILE_PATH):\n",
    "\n",
    "        # Load configurations using the read_yaml utility\n",
    "        self.config = read_yaml(config_filepath)\n",
    "        self.params = read_yaml(params_filepath)\n",
    "\n",
    "        # Ensure the main artifacts root directory exists\n",
    "        create_directories([self.config.artifacts_root])\n",
    "\n",
    "    # Method to get the Data Ingestion specific configuration\n",
    "    \n",
    "    def get_data_ingestion_config(self) -> DataIngestionConfig:\n",
    "        config = self.config.data_ingestion\n",
    "\n",
    "        create_directories([config.root_dir]) # Create ingestion root directory\n",
    "\n",
    "        data_ingestion_config = DataIngestionConfig(\n",
    "            root_dir=config.root_dir,\n",
    "            source_URL=config.source_URL,\n",
    "            local_data_file=config.local_data_file,\n",
    "            unzip_dir=config.unzip_dir\n",
    "        )\n",
    "        return data_ingestion_config"
   ]
  },
  {
   "cell_type": "code",
   "execution_count": 29,
   "id": "a461c59f",
   "metadata": {},
   "outputs": [],
   "source": [
    "import os\n",
    "import urllib.request as request\n",
    "import zipfile\n",
    "from textSummarizer.logging import logger\n",
    "from textSummarizer.utils.common import get_size\n",
    "from pathlib import Path\n",
    "\n",
    "# Assuming DataIngestionConfig is imported or defined earlier\n",
    "# Example: from textSummarizer.entity import DataIngestionConfig \n",
    "# (You would need to ensure this import is present in your actual file)\n",
    "\n",
    "class DataIngestion:\n",
    "    \"\"\"\n",
    "    A component class to handle the data downloading and storage.\n",
    "    \"\"\"\n",
    "    def __init__(self, config: DataIngestionConfig):\n",
    "        # Store the immutable configuration object\n",
    "        self.config = config\n",
    "\n",
    "    def download_file(self):\n",
    "        \"\"\"\n",
    "        Downloads the file from the source URL if it doesn't already exist locally.\n",
    "        \"\"\"\n",
    "        # Check if the local data file path exists\n",
    "        if not os.path.exists(self.config.local_data_file):\n",
    "            \n",
    "            # If it doesn't exist, download the file using urllib.request.urlretrieve\n",
    "            filename, headers = request.urlretrieve(\n",
    "                url = self.config.source_URL,\n",
    "                filename = self.config.local_data_file\n",
    "            )\n",
    "            logger.info(f\"{filename} download! with following info: \\n{headers}\")\n",
    "        else:\n",
    "            # If the file already exists, log its size\n",
    "            logger.info(f\"File already exists of size: {get_size(Path(self.config.local_data_file))}\")\n",
    "            \n",
    "    # CORRECTED: This method is now properly indented within the DataIngestion class.\n",
    "    def extract_zip_file(self):\n",
    "        \"\"\"\n",
    "        Extracts the zip file into the data directory.\n",
    "        \"\"\"\n",
    "        # Get the target directory for unzipping from the configuration\n",
    "        unzip_path = self.config.unzip_dir\n",
    "        \n",
    "        # Ensure the destination directory exists\n",
    "        os.makedirs(unzip_path, exist_ok=True)\n",
    "        \n",
    "        # Open the local zip file and extract all contents to the unzip_path\n",
    "        with zipfile.ZipFile(self.config.local_data_file, 'r') as zip_ref:\n",
    "            zip_ref.extractall(unzip_path)\n",
    "            \n",
    "        logger.info(f\"Extracted zip file to: {unzip_path}\")"
   ]
  },
  {
   "cell_type": "code",
   "execution_count": 35,
   "id": "033ba8b4",
   "metadata": {},
   "outputs": [
    {
     "name": "stdout",
     "output_type": "stream",
     "text": [
      "✅ Removed corrupted file: artifacts/data_ingestion/data.zip\n"
     ]
    }
   ],
   "source": [
    "import os\n",
    "\n",
    "# Use the exact path from your configuration\n",
    "file_to_delete = \"artifacts/data_ingestion/data.zip\" \n",
    "\n",
    "if os.path.exists(file_to_delete):\n",
    "    os.remove(file_to_delete)\n",
    "    print(f\"✅ Removed corrupted file: {file_to_delete}\")\n",
    "else:\n",
    "    print(f\"File not found at {file_to_delete}. Proceeding with download.\")"
   ]
  },
  {
   "cell_type": "code",
   "execution_count": 36,
   "id": "1e61c2e8",
   "metadata": {},
   "outputs": [
    {
     "name": "stdout",
     "output_type": "stream",
     "text": [
      "[2025-10-28 10:44:30,210: INFO: common: yaml file: config\\config.yaml loaded successfully]\n",
      "[2025-10-28 10:44:30,211: INFO: common: yaml file: params.yaml loaded successfully]\n",
      "[2025-10-28 10:44:30,213: INFO: common: created directory at: artifacts]\n",
      "[2025-10-28 10:44:30,213: INFO: common: created directory at: artifacts/data_ingestion]\n",
      "[2025-10-28 10:44:33,668: INFO: 1799174034: artifacts/data_ingestion/data.zip download! with following info: \n",
      "Connection: close\n",
      "Content-Length: 7903594\n",
      "Cache-Control: max-age=300\n",
      "Content-Security-Policy: default-src 'none'; style-src 'unsafe-inline'; sandbox\n",
      "Content-Type: application/zip\n",
      "ETag: \"dbc016a060da18070593b83afff580c9b300f0b6ea4147a7988433e04df246ca\"\n",
      "Strict-Transport-Security: max-age=31536000\n",
      "X-Content-Type-Options: nosniff\n",
      "X-Frame-Options: deny\n",
      "X-XSS-Protection: 1; mode=block\n",
      "X-GitHub-Request-Id: 0F70:2A467C:A2B7F:172F29:69005136\n",
      "Accept-Ranges: bytes\n",
      "Date: Tue, 28 Oct 2025 05:14:31 GMT\n",
      "Via: 1.1 varnish\n",
      "X-Served-By: cache-maa10246-MAA\n",
      "X-Cache: MISS\n",
      "X-Cache-Hits: 0\n",
      "X-Timer: S1761628471.585347,VS0,VE556\n",
      "Vary: Authorization,Accept-Encoding\n",
      "Access-Control-Allow-Origin: *\n",
      "Cross-Origin-Resource-Policy: cross-origin\n",
      "X-Fastly-Request-ID: 17173830a64eed39154ef52f94cc8036987bc92e\n",
      "Expires: Tue, 28 Oct 2025 05:19:31 GMT\n",
      "Source-Age: 0\n",
      "\n",
      "]\n",
      "[2025-10-28 10:44:33,844: INFO: 1799174034: Extracted zip file to: artifacts/data_ingestion]\n"
     ]
    }
   ],
   "source": [
    "try:\n",
    "    # 1. Initialize Configuration Manager\n",
    "    config = ConfigurationManager()\n",
    "    \n",
    "    # 2. Get the specific configuration for Data Ingestion\n",
    "    data_ingestion_config = config.get_data_ingestion_config()\n",
    "    \n",
    "    # 3. Initialize the Data Ingestion Component\n",
    "    data_ingestion = DataIngestion(config=data_ingestion_config)\n",
    "    \n",
    "    # 4. Execute the Data Ingestion steps\n",
    "    # This must download the file completely!\n",
    "    data_ingestion.download_file() \n",
    "    \n",
    "    # This will now attempt to extract the newly downloaded file\n",
    "    data_ingestion.extract_zip_file()\n",
    "    \n",
    "except Exception as e:\n",
    "    raise e"
   ]
  }
 ],
 "metadata": {
  "kernelspec": {
   "display_name": "Python 3",
   "language": "python",
   "name": "python3"
  },
  "language_info": {
   "codemirror_mode": {
    "name": "ipython",
    "version": 3
   },
   "file_extension": ".py",
   "mimetype": "text/x-python",
   "name": "python",
   "nbconvert_exporter": "python",
   "pygments_lexer": "ipython3",
   "version": "3.12.0"
  }
 },
 "nbformat": 4,
 "nbformat_minor": 5
}
