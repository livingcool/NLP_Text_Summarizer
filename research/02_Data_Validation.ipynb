{
 "cells": [
  {
   "cell_type": "code",
   "execution_count": 1,
   "id": "42dced06",
   "metadata": {},
   "outputs": [],
   "source": [
    "import os"
   ]
  },
  {
   "cell_type": "code",
   "execution_count": 2,
   "id": "835be86a",
   "metadata": {},
   "outputs": [
    {
     "data": {
      "text/plain": [
       "'e:\\\\2025\\\\Project_Learning\\\\NLP_Text_Summarizer\\\\research'"
      ]
     },
     "execution_count": 2,
     "metadata": {},
     "output_type": "execute_result"
    }
   ],
   "source": [
    "%pwd\n"
   ]
  },
  {
   "cell_type": "code",
   "execution_count": 3,
   "id": "94738577",
   "metadata": {},
   "outputs": [],
   "source": [
    "os.chdir(\"../\")"
   ]
  },
  {
   "cell_type": "code",
   "execution_count": 4,
   "id": "3d6c032c",
   "metadata": {},
   "outputs": [
    {
     "data": {
      "text/plain": [
       "'e:\\\\2025\\\\Project_Learning\\\\NLP_Text_Summarizer'"
      ]
     },
     "execution_count": 4,
     "metadata": {},
     "output_type": "execute_result"
    }
   ],
   "source": [
    "%pwd"
   ]
  },
  {
   "cell_type": "markdown",
   "id": "308af7e8",
   "metadata": {},
   "source": [
    "## Creating entity \n"
   ]
  },
  {
   "cell_type": "code",
   "execution_count": 23,
   "id": "8770829c",
   "metadata": {},
   "outputs": [],
   "source": [
    "from dataclasses import dataclass\n",
    "from pathlib import Path\n",
    "from typing import List # Import List for type hint\n",
    "\n",
    "@dataclass(frozen=True)\n",
    "class DataValidationConfig:\n",
    "    \"\"\"\n",
    "    Defines the structure for Data Validation configuration.\n",
    "    This entity holds the paths and parameters needed for the validation step.\n",
    "    \"\"\"\n",
    "    root_dir: Path\n",
    "    STATUS_FILE: str\n",
    "    ALL_REQUIRED_FILES: list[str] # Using List[str] for the file names"
   ]
  },
  {
   "cell_type": "code",
   "execution_count": 6,
   "id": "78403e89",
   "metadata": {},
   "outputs": [],
   "source": [
    "from textSummarizer.constants import *\n",
    "from textSummarizer.utils.common import read_yaml,create_directories\n"
   ]
  },
  {
   "cell_type": "markdown",
   "id": "471e94fe",
   "metadata": {},
   "source": [
    "## Updating Config\n"
   ]
  },
  {
   "cell_type": "code",
   "execution_count": 7,
   "id": "0b17e8f8",
   "metadata": {},
   "outputs": [],
   "source": [
    "class ConfigurationManager:\n",
    "    def __init__(\n",
    "        self,\n",
    "        config_filepath = CONFIG_FILE_PATH,\n",
    "        params_filepath = PARAMS_FILE_PATH):\n",
    "\n",
    "        # Load configurations using the read_yaml utility\n",
    "        self.config = read_yaml(config_filepath)\n",
    "        self.params = read_yaml(params_filepath)\n",
    "\n",
    "        # Ensure the main artifacts root directory exists\n",
    "        create_directories([self.config.artifacts_root])\n",
    "\n",
    "    # Method to get the Data Ingestion specific configuration\n",
    "    def get_data_validation_config(self) -> DataValidationConfig:\n",
    "        \"\"\"Reads data_validation configuration from config.yaml\n",
    "        and returns it as a DataValidationConfig object.\"\"\"\n",
    "    # 1. Access the 'data_validation' section of the main configuration\n",
    "        config = self.config.data_validation\n",
    "\n",
    "    # 2. Create the root directory for data validation artifacts\n",
    "    # Assumes create_directories is available (e.g., imported from utils.common)\n",
    "        create_directories([config.root_dir])\n",
    "\n",
    "    # 3. Create the DataValidationConfig entity object\n",
    "        data_validation_config = DataValidationConfig(\n",
    "            root_dir=Path(config.root_dir), # Convert string path to Path object\n",
    "            STATUS_FILE=config.STATUS_FILE,\n",
    "            ALL_REQUIRED_FILES=config.ALL_REQUIRED_FILES,\n",
    "        )\n",
    "\n",
    "    # 4. Return the configured object\n",
    "        return data_validation_config"
   ]
  },
  {
   "cell_type": "markdown",
   "id": "d0783d2c",
   "metadata": {},
   "source": [
    "## Updating Components "
   ]
  },
  {
   "cell_type": "code",
   "execution_count": 20,
   "id": "058aa2c5",
   "metadata": {},
   "outputs": [],
   "source": [
    "from textSummarizer.logging import logger\n",
    "class DataValiadition:\n",
    "    def __init__(self, config: DataValidationConfig):\n",
    "        self.config = config\n",
    "\n",
    "    # Inside the DataValiadition class\n",
    "    def validate_all_files_exist(self) -> bool:\n",
    "        try:\n",
    "            validation_status = None\n",
    "            data_dir = os.path.join(\"artifacts\", \"data_ingestion\", \"samsum_dataset\")\n",
    "            all_files = os.listdir(data_dir)\n",
    "\n",
    "            for file in all_files:\n",
    "                if file not in self.config.ALL_REQUIRED_FILES:\n",
    "                # 📢 NEW LINE: Log the file causing the failure!\n",
    "                    logger.warning(f\"Validation failed! Unexpected file found: {file}\")\n",
    "                \n",
    "                    validation_status = False\n",
    "                    with open(self.config.STATUS_FILE, 'w') as f:\n",
    "                        f.write(f\"Validation status: {validation_status}\\nFailing file: {file}\")\n",
    "                    break\n",
    "                else:\n",
    "                    validation_status = True\n",
    "                    with open(self.config.STATUS_FILE, 'w') as f:\n",
    "                        f.write(f\"Validation status: {validation_status}\")\n",
    "\n",
    "            return validation_status\n",
    "\n",
    "        except Exception as e:\n",
    "            raise e"
   ]
  },
  {
   "cell_type": "markdown",
   "id": "d1c5abce",
   "metadata": {},
   "source": [
    "## Pipeline Creation\n"
   ]
  },
  {
   "cell_type": "code",
   "execution_count": 22,
   "id": "48c7a293",
   "metadata": {},
   "outputs": [
    {
     "name": "stdout",
     "output_type": "stream",
     "text": [
      "[2025-10-28 14:25:36,995: INFO: common: yaml file: config\\config.yaml loaded successfully]\n",
      "[2025-10-28 14:25:36,997: INFO: common: yaml file: params.yaml loaded successfully]\n",
      "[2025-10-28 14:25:36,999: INFO: common: created directory at: artifacts]\n",
      "[2025-10-28 14:25:37,000: INFO: common: created directory at: artifacts/data_validation]\n"
     ]
    }
   ],
   "source": [
    "try:\n",
    "    # 1. Initialize Configuration Manager\n",
    "    config = ConfigurationManager()\n",
    "    \n",
    "    # 2. Get the specific configuration for Data Validation\n",
    "    data_validation_config = config.get_data_validation_config()\n",
    "    \n",
    "    # 3. Initialize the Data Validation Component\n",
    "    # Note: Class name is DataValiadition (as per your image, likely a typo for DataValidation)\n",
    "    data_validation = DataValiadition(config=data_validation_config)\n",
    "    \n",
    "    # 4. Execute the Data Validation step\n",
    "    data_validation.validate_all_files_exist()\n",
    "    \n",
    "except Exception as e:\n",
    "    raise e"
   ]
  }
 ],
 "metadata": {
  "kernelspec": {
   "display_name": "Python 3",
   "language": "python",
   "name": "python3"
  },
  "language_info": {
   "codemirror_mode": {
    "name": "ipython",
    "version": 3
   },
   "file_extension": ".py",
   "mimetype": "text/x-python",
   "name": "python",
   "nbconvert_exporter": "python",
   "pygments_lexer": "ipython3",
   "version": "3.12.0"
  }
 },
 "nbformat": 4,
 "nbformat_minor": 5
}
