{
 "cells": [
  {
   "cell_type": "code",
   "execution_count": 1,
   "id": "395c12b0",
   "metadata": {},
   "outputs": [],
   "source": [
    "import os\n"
   ]
  },
  {
   "cell_type": "code",
   "execution_count": 2,
   "id": "e576794a",
   "metadata": {},
   "outputs": [
    {
     "data": {
      "text/plain": [
       "'e:\\\\2025\\\\Project_Learning\\\\NLP_Text_Summarizer\\\\research'"
      ]
     },
     "execution_count": 2,
     "metadata": {},
     "output_type": "execute_result"
    }
   ],
   "source": [
    "%pwd"
   ]
  },
  {
   "cell_type": "code",
   "execution_count": 3,
   "id": "b985f9a3",
   "metadata": {},
   "outputs": [],
   "source": [
    "os.chdir(\"../\")"
   ]
  },
  {
   "cell_type": "code",
   "execution_count": 4,
   "id": "c26e1cf3",
   "metadata": {},
   "outputs": [
    {
     "data": {
      "text/plain": [
       "'e:\\\\2025\\\\Project_Learning\\\\NLP_Text_Summarizer'"
      ]
     },
     "execution_count": 4,
     "metadata": {},
     "output_type": "execute_result"
    }
   ],
   "source": [
    "%pwd"
   ]
  },
  {
   "cell_type": "markdown",
   "id": "96eefb95",
   "metadata": {},
   "source": [
    "## Data Transformation Entity\n"
   ]
  },
  {
   "cell_type": "code",
   "execution_count": 5,
   "id": "a67ac1b7",
   "metadata": {},
   "outputs": [],
   "source": [
    "from dataclasses import dataclass\n",
    "from pathlib import Path\n",
    "\n",
    "@dataclass(frozen=True)\n",
    "class DataTransformationConfig:\n",
    "    \"\"\"\n",
    "    Defines the structure for Data Transformation configuration.\n",
    "    Note: The 'tokenizer_name' is typed as Path in the image, \n",
    "    but for a Hugging Face model name, 'str' is usually more appropriate.\n",
    "    \"\"\"\n",
    "    root_dir: Path\n",
    "    data_path: Path\n",
    "    tokenizer_name: Path"
   ]
  },
  {
   "cell_type": "markdown",
   "id": "ba31f858",
   "metadata": {},
   "source": [
    "## Configuration Code ### (as the order in Readme.md file )"
   ]
  },
  {
   "cell_type": "code",
   "execution_count": 6,
   "id": "12882646",
   "metadata": {},
   "outputs": [],
   "source": [
    "from textSummarizer.constants import *\n",
    "from textSummarizer.utils.common import read_yaml,  create_directories\n",
    "\n",
    "class ConfigurationManager:\n",
    "    def __init__(\n",
    "        self,\n",
    "        config_filepath = CONFIG_FILE_PATH,\n",
    "        params_filepath = PARAMS_FILE_PATH):\n",
    "\n",
    "        self.config = read_yaml(config_filepath)\n",
    "        self.params = read_yaml(params_filepath)\n",
    "\n",
    "        # Ensure the main artifacts root directory exists\n",
    "        create_directories([self.config.artifacts_root])\n",
    "\n",
    "\n",
    "    def get_data_transformation_config(self) -> DataTransformationConfig:\n",
    "        \"\"\"\n",
    "        Reads data_transformation configuration from config.yaml\n",
    "        and returns it as a DataTransformationConfig object.\n",
    "        \"\"\"\n",
    "        # 1. Access the 'data_transformation' section\n",
    "        config = self.config.data_transformation\n",
    "\n",
    "        # 2. Create the root directory for data transformation artifacts\n",
    "        create_directories([config.root_dir])\n",
    "\n",
    "        # 3. Create the DataTransformationConfig entity object\n",
    "        data_transformation_config = DataTransformationConfig(\n",
    "            root_dir=Path(config.root_dir),\n",
    "            data_path=Path(config.data_path),\n",
    "            tokenizer_name=config.tokenizer_name\n",
    "        )\n",
    "\n",
    "        # 4. Return the configured object\n",
    "        return data_transformation_config"
   ]
  },
  {
   "cell_type": "markdown",
   "id": "6eb6ffd3",
   "metadata": {},
   "source": [
    "## Creating The Components \n"
   ]
  },
  {
   "cell_type": "code",
   "execution_count": 7,
   "id": "52bc2ce4",
   "metadata": {},
   "outputs": [
    {
     "name": "stderr",
     "output_type": "stream",
     "text": [
      "c:\\Users\\ganes\\AppData\\Local\\Programs\\Python\\Python312\\Lib\\site-packages\\tqdm\\auto.py:21: TqdmWarning: IProgress not found. Please update jupyter and ipywidgets. See https://ipywidgets.readthedocs.io/en/stable/user_install.html\n",
      "  from .autonotebook import tqdm as notebook_tqdm\n"
     ]
    }
   ],
   "source": [
    "import os\n",
    "from transformers import AutoTokenizer\n",
    "from datasets import load_from_disk\n",
    "from textSummarizer.logging import logger\n",
    "from pathlib import Path\n",
    "from typing import Dict, Any, Union\n",
    "\n",
    "# Assuming DataTransformationConfig is imported from .entity\n",
    "# Example: from textSummarizer.entity import DataTransformationConfig\n",
    "\n",
    "class DataTransformation:\n",
    "    \"\"\"\n",
    "    A component class to handle tokenization and transformation \n",
    "    of the dataset for the model training stage.\n",
    "    \"\"\"\n",
    "    def __init__(self, config: DataTransformationConfig):\n",
    "        # Stores the configuration object (data paths, tokenizer name)\n",
    "        self.config = config\n",
    "        \n",
    "        # Load the tokenizer specified in the configuration\n",
    "        self.tokenizer = AutoTokenizer.from_pretrained(self.config.tokenizer_name)\n",
    "\n",
    "    def convert_examples_to_features(self, example_batch: Dict[str, Union[list, Any]]):\n",
    "        \"\"\"\n",
    "        Tokenizes an example batch of the dataset.\n",
    "\n",
    "        Args:\n",
    "            example_batch (Dict): A batch dictionary from the dataset (e.g., {'dialogue': [...], 'summary': [...]}).\n",
    "\n",
    "        Returns:\n",
    "            Dict: A dictionary containing tokenized inputs, labels, and attention masks.\n",
    "        \"\"\"\n",
    "        # Tokenize the input text (dialogue)\n",
    "        # Max length of 1024 tokens for input dialogue\n",
    "        input_encodings = self.tokenizer(example_batch['dialogue'], max_length=1024, truncation=True)\n",
    "\n",
    "        # Tokenize the target summary (labels)\n",
    "        with self.tokenizer.as_target_tokenizer():\n",
    "            # Max length of 128 tokens for target summary\n",
    "            target_encodings = self.tokenizer(example_batch['summary'], max_length=128, truncation=True)\n",
    "\n",
    "        # Create the dictionary of features for the model (input_ids, attention_mask, and labels)\n",
    "        return {\n",
    "            'input_ids' : input_encodings['input_ids'],\n",
    "            'attention_mask': input_encodings['attention_mask'],\n",
    "            'labels': target_encodings['input_ids']\n",
    "        }\n",
    "\n",
    "    def convert(self):\n",
    "        \"\"\"\n",
    "        Loads the dataset from disk, tokenizes it using the mapping function, \n",
    "        and saves the tokenized dataset to a new location.\n",
    "        \"\"\"\n",
    "        logger.info(f\"Loading dataset from: {self.config.data_path}\")\n",
    "        # Load the dataset saved in the previous stage\n",
    "        dataset_samsum = load_from_disk(self.config.data_path)\n",
    "        \n",
    "        logger.info(\"Starting dataset tokenization...\")\n",
    "        # Apply the tokenization function (convert_examples_to_features)\n",
    "        dataset_samsum_pt = dataset_samsum.map(self.convert_examples_to_features, batched=True)\n",
    "        \n",
    "        # Save the tokenized, processed dataset\n",
    "        save_path = os.path.join(self.config.root_dir, \"samsum_dataset\")\n",
    "        dataset_samsum_pt.save_to_disk(save_path)\n",
    "        logger.info(f\"Tokenized dataset saved to: {save_path}\")"
   ]
  },
  {
   "cell_type": "markdown",
   "id": "3c3294d0",
   "metadata": {},
   "source": [
    "## Creating the Pipeline\n"
   ]
  },
  {
   "cell_type": "code",
   "execution_count": 8,
   "id": "cd4d678d",
   "metadata": {},
   "outputs": [
    {
     "name": "stdout",
     "output_type": "stream",
     "text": [
      "[2025-10-28 15:57:15,040: INFO: common: yaml file: config\\config.yaml loaded successfully]\n",
      "[2025-10-28 15:57:15,056: INFO: common: yaml file: params.yaml loaded successfully]\n",
      "[2025-10-28 15:57:15,060: INFO: common: created directory at: artifacts]\n",
      "[2025-10-28 15:57:15,063: INFO: common: created directory at: artifacts/data_transformation]\n"
     ]
    },
    {
     "name": "stderr",
     "output_type": "stream",
     "text": [
      "c:\\Users\\ganes\\AppData\\Local\\Programs\\Python\\Python312\\Lib\\site-packages\\huggingface_hub\\file_download.py:143: UserWarning: `huggingface_hub` cache-system uses symlinks by default to efficiently store duplicated files but your machine does not support them in C:\\Users\\ganes\\.cache\\huggingface\\hub\\models--google--pegasus-cnn_dailymail. Caching files will still work but in a degraded version that might require more space on your disk. This warning can be disabled by setting the `HF_HUB_DISABLE_SYMLINKS_WARNING` environment variable. For more details, see https://huggingface.co/docs/huggingface_hub/how-to-cache#limitations.\n",
      "To support symlinks on Windows, you either need to activate Developer Mode or to run Python as an administrator. In order to activate developer mode, see this article: https://docs.microsoft.com/en-us/windows/apps/get-started/enable-your-device-for-development\n",
      "  warnings.warn(message)\n"
     ]
    },
    {
     "name": "stdout",
     "output_type": "stream",
     "text": [
      "[2025-10-28 15:57:23,837: INFO: 1902114724: Loading dataset from: artifacts\\data_ingestion\\samsum_dataset]\n",
      "[2025-10-28 15:57:23,932: INFO: 1902114724: Starting dataset tokenization...]\n"
     ]
    },
    {
     "name": "stderr",
     "output_type": "stream",
     "text": [
      "Map:   0%|          | 0/14732 [00:00<?, ? examples/s]c:\\Users\\ganes\\AppData\\Local\\Programs\\Python\\Python312\\Lib\\site-packages\\transformers\\tokenization_utils_base.py:4034: UserWarning: `as_target_tokenizer` is deprecated and will be removed in v5 of Transformers. You can tokenize your labels by using the argument `text_target` of the regular `__call__` method (either in the same call as your input texts if you use the same keyword arguments, or in a separate call.\n",
      "  warnings.warn(\n",
      "Map: 100%|██████████| 14732/14732 [00:04<00:00, 3282.14 examples/s]\n",
      "Map: 100%|██████████| 819/819 [00:00<00:00, 1032.76 examples/s]\n",
      "Map: 100%|██████████| 818/818 [00:00<00:00, 2442.16 examples/s]\n",
      "Saving the dataset (1/1 shards): 100%|██████████| 14732/14732 [00:00<00:00, 85648.11 examples/s]\n",
      "Saving the dataset (1/1 shards): 100%|██████████| 819/819 [00:00<00:00, 30560.34 examples/s]\n",
      "Saving the dataset (1/1 shards): 100%|██████████| 818/818 [00:00<00:00, 37427.08 examples/s]"
     ]
    },
    {
     "name": "stdout",
     "output_type": "stream",
     "text": [
      "[2025-10-28 15:57:30,100: INFO: 1902114724: Tokenized dataset saved to: artifacts\\data_transformation\\samsum_dataset]\n"
     ]
    },
    {
     "name": "stderr",
     "output_type": "stream",
     "text": [
      "\n"
     ]
    }
   ],
   "source": [
    "try:\n",
    "    # 1. Initialize Configuration Manager\n",
    "    config = ConfigurationManager()\n",
    "    \n",
    "    # 2. Get the specific configuration for Data Transformation\n",
    "    data_transformation_config = config.get_data_transformation_config()\n",
    "    \n",
    "    # 3. Initialize the Data Transformation Component\n",
    "    data_transformation = DataTransformation(config=data_transformation_config)\n",
    "    \n",
    "    # 4. Execute the transformation method\n",
    "    data_transformation.convert()\n",
    "    \n",
    "except Exception as e:\n",
    "    raise e"
   ]
  }
 ],
 "metadata": {
  "kernelspec": {
   "display_name": "Python 3",
   "language": "python",
   "name": "python3"
  },
  "language_info": {
   "codemirror_mode": {
    "name": "ipython",
    "version": 3
   },
   "file_extension": ".py",
   "mimetype": "text/x-python",
   "name": "python",
   "nbconvert_exporter": "python",
   "pygments_lexer": "ipython3",
   "version": "3.12.0"
  }
 },
 "nbformat": 4,
 "nbformat_minor": 5
}
