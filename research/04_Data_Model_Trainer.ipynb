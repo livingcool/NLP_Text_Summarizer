{
 "cells": [
  {
   "cell_type": "code",
   "execution_count": 1,
   "id": "c0a2954f",
   "metadata": {},
   "outputs": [],
   "source": [
    "import os\n"
   ]
  },
  {
   "cell_type": "code",
   "execution_count": 2,
   "id": "eea23aaa",
   "metadata": {},
   "outputs": [
    {
     "data": {
      "text/plain": [
       "'e:\\\\2025\\\\Project_Learning\\\\NLP_Text_Summarizer\\\\research'"
      ]
     },
     "execution_count": 2,
     "metadata": {},
     "output_type": "execute_result"
    }
   ],
   "source": [
    "%pwd"
   ]
  },
  {
   "cell_type": "code",
   "execution_count": 3,
   "id": "8ca24889",
   "metadata": {},
   "outputs": [],
   "source": [
    "os.chdir(\"../\")"
   ]
  },
  {
   "cell_type": "code",
   "execution_count": 4,
   "id": "762b3293",
   "metadata": {},
   "outputs": [
    {
     "data": {
      "text/plain": [
       "'e:\\\\2025\\\\Project_Learning\\\\NLP_Text_Summarizer'"
      ]
     },
     "execution_count": 4,
     "metadata": {},
     "output_type": "execute_result"
    }
   ],
   "source": [
    "%pwd"
   ]
  },
  {
   "cell_type": "markdown",
   "id": "bb000a65",
   "metadata": {},
   "source": [
    "## Data Model Trainer Entity\n",
    " "
   ]
  },
  {
   "cell_type": "markdown",
   "id": "7c329df1",
   "metadata": {},
   "source": [
    "### After Updating the config.yaml & params.yaml file \n"
   ]
  },
  {
   "cell_type": "code",
   "execution_count": 5,
   "id": "0e431415",
   "metadata": {},
   "outputs": [],
   "source": [
    "### Entity Creation\n",
    "from dataclasses import dataclass\n",
    "from pathlib import Path\n",
    "from typing import List, Union # Add other imports used in other configs\n",
    "\n",
    "\n",
    "\n",
    "# # Added Union for flexibility in save_steps/epochs if needed, though float/int is fine\n",
    "\n",
    "@dataclass(frozen=True)\n",
    "class ModelTrainerConfig:\n",
    "    root_dir: Path\n",
    "    data_path: Path\n",
    "    model_ckpt: Path\n",
    "    num_train_epochs: int\n",
    "    warmup_steps: int\n",
    "    per_device_train_batch_size: int\n",
    "    weight_decay: float\n",
    "    logging_steps: int\n",
    "    evaluation_strategy: str\n",
    "    eval_steps: int\n",
    "    save_steps: float\n",
    "    gradient_accumulation_steps: int"
   ]
  },
  {
   "cell_type": "markdown",
   "id": "72421992",
   "metadata": {},
   "source": [
    "## Configuration Manager\n"
   ]
  },
  {
   "cell_type": "code",
   "execution_count": 6,
   "id": "674c7003",
   "metadata": {},
   "outputs": [],
   "source": [
    "from pathlib import Path\n",
    "from textSummarizer.constants import *\n",
    "from textSummarizer.utils.common import read_yaml, create_directories\n",
    "# Assuming ModelTrainerConfig is imported from textSummarizer.entity\n",
    "from textSummarizer.entity import ModelTrainerConfig \n",
    "\n",
    "class ConfigurationManager:\n",
    "    \"\"\"\n",
    "    Manages the loading and parsing of configuration and parameters \n",
    "    from YAML files into typed entity objects.\n",
    "    \"\"\"\n",
    "    def __init__(\n",
    "        self,\n",
    "        config_filepath = CONFIG_FILE_PATH,\n",
    "        params_filepath = PARAMS_FILE_PATH):\n",
    "\n",
    "        # 1. Load configuration and parameters using the utility function\n",
    "        self.config = read_yaml(config_filepath)\n",
    "        self.params = read_yaml(params_filepath)\n",
    "\n",
    "        # 2. Ensure the main artifacts root directory exists\n",
    "        create_directories([self.config.artifacts_root])\n",
    "        \n",
    "    # --- Model Trainer Configuration Method ---\n",
    "    \n",
    "    def get_model_trainer_config(self) -> ModelTrainerConfig:\n",
    "        \"\"\"\n",
    "        Reads configuration from config.yaml and params.yaml to create \n",
    "        the ModelTrainerConfig entity.\n",
    "        \"\"\"\n",
    "        # 1. Get static paths from config.yaml\n",
    "        config = self.config.model_trainer\n",
    "        \n",
    "        # 2. Get training hyperparameters from params.yaml\n",
    "        params = self.params.TrainingArguments\n",
    "\n",
    "        # 3. Create the artifact root directory for the model trainer stage\n",
    "        create_directories([config.root_dir])\n",
    "\n",
    "        # 4. Construct the ModelTrainerConfig object\n",
    "        # NOTE: Arguments here MUST match the ModelTrainerConfig dataclass definition.\n",
    "        model_trainer_config = ModelTrainerConfig(\n",
    "            root_dir=Path(config.root_dir),\n",
    "            data_path=Path(config.data_path),\n",
    "            model_ckpt=config.model_ckpt,\n",
    "            num_train_epochs=int(params.num_train_epochs),\n",
    "            warmup_steps=params.warmup_steps,\n",
    "            per_device_train_batch_size=params.per_device_train_batch_size,\n",
    "            weight_decay=params.weight_decay,\n",
    "            logging_steps=params.logging_steps,\n",
    "            \n",
    "            # NOTE: We maintain 'evaluation_strategy' here to match the \n",
    "            # entity's structure, even though the Trainer takes 'eval_strategy'.\n",
    "            evaluation_strategy=params.evaluation_strategy,\n",
    "            eval_steps=params.eval_steps, \n",
    "            \n",
    "            save_steps=float(params.save_steps),\n",
    "            gradient_accumulation_steps=params.gradient_accumulation_steps\n",
    "        )\n",
    "        \n",
    "        return model_trainer_config\n",
    "        \n",
    "# --- (Other configuration methods would follow here, e.g., get_data_ingestion_config) ---"
   ]
  },
  {
   "cell_type": "markdown",
   "id": "524a6846",
   "metadata": {},
   "source": [
    "## Create The Components\n"
   ]
  },
  {
   "cell_type": "code",
   "execution_count": 7,
   "id": "e3a40ce2",
   "metadata": {},
   "outputs": [
    {
     "name": "stderr",
     "output_type": "stream",
     "text": [
      "c:\\Users\\ganes\\AppData\\Local\\Programs\\Python\\Python312\\Lib\\site-packages\\tqdm\\auto.py:21: TqdmWarning: IProgress not found. Please update jupyter and ipywidgets. See https://ipywidgets.readthedocs.io/en/stable/user_install.html\n",
      "  from .autonotebook import tqdm as notebook_tqdm\n"
     ]
    }
   ],
   "source": [
    "import torch\n",
    "import os\n",
    "from datasets import load_from_disk\n",
    "from transformers import AutoModelForSeq2SeqLM, AutoTokenizer, DataCollatorForSeq2Seq, TrainingArguments, Trainer\n",
    "from pathlib import Path\n",
    "\n",
    "# Assuming ModelTrainerConfig is imported from .entity\n",
    "# Example: from textSummarizer.entity import ModelTrainerConfig\n",
    "\n",
    "class ModelTrainer:\n",
    "    def __init__(self, config: ModelTrainerConfig):\n",
    "        # Stores the configuration object (paths and hyperparameters)\n",
    "        self.config = config\n",
    "\n",
    "    def train(self):\n",
    "        # 1. Device Setup\n",
    "        # Check if a CUDA-enabled GPU is available; otherwise, use the CPU.\n",
    "        device = \"cuda\" if torch.cuda.is_available() else \"cpu\"\n",
    "        \n",
    "        # 2. Load Model Components\n",
    "        tokenizer = AutoTokenizer.from_pretrained(self.config.model_ckpt)\n",
    "        model_pegasus = AutoModelForSeq2SeqLM.from_pretrained(self.config.model_ckpt).to(device)\n",
    "        seq2seq_data_collator = DataCollatorForSeq2Seq(tokenizer, model=model_pegasus)\n",
    "\n",
    "        # 3. Loading Data\n",
    "        # Load the tokenized dataset saved by the Data Transformation stage\n",
    "        dataset_samsum_pt = load_from_disk(self.config.data_path)\n",
    "        \n",
    "        SUBSET_FRACTION = 0.005\n",
    "        train_len = int(SUBSET_FRACTION * len(dataset_samsum_pt['train']))\n",
    "        eval_len = int(SUBSET_FRACTION * len(dataset_samsum_pt['validation']))\n",
    "        \n",
    "        train_dataset_subset = dataset_samsum_pt[\"train\"].select(range(train_len))\n",
    "        eval_dataset_subset = dataset_samsum_pt[\"validation\"].select(range(eval_len))\n",
    "\n",
    "        # 4. Define Training Arguments\n",
    "        # Create a TrainingArguments instance using parameters from the configuration\n",
    "        # Note: All training arguments are correctly passed from self.config\n",
    "        trainer_args = TrainingArguments(\n",
    "            output_dir=self.config.root_dir,\n",
    "            num_train_epochs=self.config.num_train_epochs, \n",
    "            warmup_steps=self.config.warmup_steps,\n",
    "            per_device_train_batch_size=self.config.per_device_train_batch_size, \n",
    "            per_device_eval_batch_size=self.config.per_device_train_batch_size, # Typically uses train batch size or a separate eval batch size\n",
    "            weight_decay=self.config.weight_decay, \n",
    "            logging_steps=self.config.logging_steps,\n",
    "            eval_strategy=self.config.evaluation_strategy,\n",
    "            eval_steps=self.config.eval_steps,\n",
    "            save_steps=self.config.save_steps, # Uses 1e6 which is essentially 'never save checkpoints during training'\n",
    "            gradient_accumulation_steps=self.config.gradient_accumulation_steps,\n",
    "        )\n",
    "\n",
    "        # 5. Initialize Hugging Face Trainer\n",
    "        trainer = Trainer(\n",
    "            model=model_pegasus,\n",
    "            args=trainer_args,\n",
    "            tokenizer=tokenizer,\n",
    "            data_collator=seq2seq_data_collator,\n",
    "            # Assigning the split datasets for training and evaluation\n",
    "            train_dataset=train_dataset_subset, # ⬅️ USE THE SUBSET\n",
    "            eval_dataset=eval_dataset_subset  # ⬅️ USE THE SUBSET\n",
    "        )\n",
    "\n",
    "        # 6. Start Training\n",
    "        trainer.train()\n",
    "\n",
    "        # 7. Save the final model (Standard practice, though not explicitly in the image)\n",
    "        # Save model and tokenizer to the root directory\n",
    "        model_pegasus.save_pretrained(os.path.join(self.config.root_dir, \"pegasus-samsum-model\"))\n",
    "        tokenizer.save_pretrained(os.path.join(self.config.root_dir, \"tokenizer\"))  "
   ]
  },
  {
   "cell_type": "markdown",
   "id": "605a58eb",
   "metadata": {},
   "source": [
    "## Creating the Pipeline "
   ]
  },
  {
   "cell_type": "code",
   "execution_count": null,
   "id": "cdfcd816",
   "metadata": {},
   "outputs": [
    {
     "name": "stdout",
     "output_type": "stream",
     "text": [
      "[2025-10-28 18:52:36,821: INFO: common: yaml file: config\\config.yaml loaded successfully]\n",
      "[2025-10-28 18:52:36,825: INFO: common: yaml file: params.yaml loaded successfully]\n",
      "[2025-10-28 18:52:36,829: INFO: common: created directory at: artifacts]\n",
      "[2025-10-28 18:52:36,829: INFO: common: created directory at: artifacts/model_trainer]\n"
     ]
    },
    {
     "name": "stderr",
     "output_type": "stream",
     "text": [
      "Some weights of PegasusForConditionalGeneration were not initialized from the model checkpoint at google/pegasus-cnn_dailymail and are newly initialized: ['model.decoder.embed_positions.weight', 'model.encoder.embed_positions.weight']\n",
      "You should probably TRAIN this model on a down-stream task to be able to use it for predictions and inference.\n",
      "C:\\Users\\ganes\\AppData\\Local\\Temp\\ipykernel_1788\\1844606525.py:54: FutureWarning: `tokenizer` is deprecated and will be removed in version 5.0.0 for `Trainer.__init__`. Use `processing_class` instead.\n",
      "  trainer = Trainer(\n",
      "The tokenizer has new PAD/BOS/EOS tokens that differ from the model config and generation config. The model config and generation config were aligned accordingly, being updated with the tokenizer's values. Updated tokens: {'bos_token_id': None}.\n",
      "c:\\Users\\ganes\\AppData\\Local\\Programs\\Python\\Python312\\Lib\\site-packages\\torch\\utils\\data\\dataloader.py:666: UserWarning: 'pin_memory' argument is set as true but no accelerator is found, then device pinned memory won't be used.\n",
      "  warnings.warn(warn_msg)\n"
     ]
    }
   ],
   "source": [
    "try:\n",
    "    # 1. Initialize Configuration Manager\n",
    "    config = ConfigurationManager()\n",
    "    \n",
    "    # 2. Get the specific configuration for Model Training\n",
    "    model_trainer_config = config.get_model_trainer_config()\n",
    "    \n",
    "    # 3. Initialize the Model Trainer Component\n",
    "    model_trainer = ModelTrainer(config=model_trainer_config)\n",
    "    \n",
    "    # 4. Execute the training method\n",
    "    model_trainer.train()\n",
    "    \n",
    "except Exception as e:\n",
    "    raise e"
   ]
  }
 ],
 "metadata": {
  "kernelspec": {
   "display_name": "Python 3",
   "language": "python",
   "name": "python3"
  },
  "language_info": {
   "codemirror_mode": {
    "name": "ipython",
    "version": 3
   },
   "file_extension": ".py",
   "mimetype": "text/x-python",
   "name": "python",
   "nbconvert_exporter": "python",
   "pygments_lexer": "ipython3",
   "version": "3.12.0"
  }
 },
 "nbformat": 4,
 "nbformat_minor": 5
}
